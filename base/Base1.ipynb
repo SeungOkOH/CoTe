{
 "cells": [
  {
   "cell_type": "code",
   "execution_count": 3,
   "metadata": {},
   "outputs": [
    {
     "name": "stdout",
     "output_type": "stream",
     "text": [
      "[[0, 0, 0], [0, 0, 0], [0, 0, 0], [0, 0, 0], [0, 0, 0]]\n"
     ]
    }
   ],
   "source": [
    "m=3\n",
    "n=5\n",
    "a = [[0]*m for _ in range(n)]\n",
    "print(a)"
   ]
  },
  {
   "cell_type": "code",
   "execution_count": 5,
   "metadata": {},
   "outputs": [
    {
     "name": "stdout",
     "output_type": "stream",
     "text": [
      "[123, 32, 5, 3]\n"
     ]
    }
   ],
   "source": [
    "# n = int(input())\n",
    "\n",
    "data = list(map(int, input().split()))\n",
    "\n",
    "data.sort(reverse = True)\n",
    "print(data)"
   ]
  },
  {
   "cell_type": "code",
   "execution_count": 6,
   "metadata": {},
   "outputs": [],
   "source": [
    "import sys\n",
    "data = list(map(int, sys.stdin.readline().rstrip().split()))\n",
    "\n",
    "data.sort(reverse = True)\n",
    "print(data)"
   ]
  },
  {
   "cell_type": "code",
   "execution_count": 2,
   "metadata": {},
   "outputs": [
    {
     "name": "stdout",
     "output_type": "stream",
     "text": [
      "x>=10\n"
     ]
    }
   ],
   "source": [
    "x = 14\n",
    "if x >= 10:\n",
    "    print(\"x>=10\")\n",
    "elif x >= 5:\n",
    "    print(\"10>x>=5\")\n",
    "else:\n",
    "    print(\"x<5\")"
   ]
  },
  {
   "cell_type": "code",
   "execution_count": 4,
   "metadata": {},
   "outputs": [
    {
     "name": "stdout",
     "output_type": "stream",
     "text": [
      "x is not in [1, 2, 3, 4, 5]\n"
     ]
    }
   ],
   "source": [
    "x = 13\n",
    "if x not in [1, 2, 3, 4, 5]:\n",
    "    print(\"x is not in [1, 2, 3, 4, 5]\")"
   ]
  },
  {
   "cell_type": "code",
   "execution_count": 5,
   "metadata": {},
   "outputs": [
    {
     "name": "stdout",
     "output_type": "stream",
     "text": [
      "25\n"
     ]
    }
   ],
   "source": [
    "i =1\n",
    "result = 0\n",
    "\n",
    "while i <= 9:\n",
    "    if i%2 ==1:\n",
    "        result+=i\n",
    "    i+=1\n",
    "print(result)"
   ]
  },
  {
   "cell_type": "code",
   "execution_count": 8,
   "metadata": {},
   "outputs": [
    {
     "name": "stdout",
     "output_type": "stream",
     "text": [
      "1 번 학생은 합격입니다.\n",
      "5 번 학생은 합격입니다.\n"
     ]
    }
   ],
   "source": [
    "score = [90, 85, 77, 65, 97]\n",
    "cheating_student_list = {2, 4}\n",
    "for i in range(5):\n",
    "    if i+1 in cheating_student_list:\n",
    "        continue\n",
    "    if score[i] >= 80:\n",
    "        print(i+1, \"번 학생은 합격입니다.\")"
   ]
  },
  {
   "cell_type": "code",
   "execution_count": 9,
   "metadata": {},
   "outputs": [
    {
     "name": "stdout",
     "output_type": "stream",
     "text": [
      "10 4 21 2.3333333333333335\n"
     ]
    }
   ],
   "source": [
    "def operator(a,b):\n",
    "    add_var = a+b\n",
    "    sub_var = a-b\n",
    "    mul_var = a*b\n",
    "    div_var = a/b\n",
    "    return add_var, sub_var, mul_var, div_var\n",
    "\n",
    "a,b,c,d = operator(7,3)\n",
    "print(a,b,c,d)"
   ]
  },
  {
   "cell_type": "code",
   "execution_count": 10,
   "metadata": {},
   "outputs": [
    {
     "name": "stdout",
     "output_type": "stream",
     "text": [
      "10\n"
     ]
    }
   ],
   "source": [
    "print((lambda a,b: a+b)(3,7))"
   ]
  },
  {
   "cell_type": "code",
   "execution_count": 11,
   "metadata": {},
   "outputs": [
    {
     "name": "stdout",
     "output_type": "stream",
     "text": [
      "[('이순신', 32), ('홍길동', 50), ('아무개', 74)]\n"
     ]
    }
   ],
   "source": [
    "array = [('홍길동', 50), ('이순신', 32), ('아무개', 74)]\n",
    "\n",
    "print(sorted(array, key = lambda x: x[1]))"
   ]
  },
  {
   "cell_type": "code",
   "execution_count": null,
   "metadata": {},
   "outputs": [],
   "source": []
  }
 ],
 "metadata": {
  "kernelspec": {
   "display_name": "Python 3",
   "language": "python",
   "name": "python3"
  },
  "language_info": {
   "codemirror_mode": {
    "name": "ipython",
    "version": 3
   },
   "file_extension": ".py",
   "mimetype": "text/x-python",
   "name": "python",
   "nbconvert_exporter": "python",
   "pygments_lexer": "ipython3",
   "version": "3.10.2"
  }
 },
 "nbformat": 4,
 "nbformat_minor": 2
}
